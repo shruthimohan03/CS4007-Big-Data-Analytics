{
 "cells": [
  {
   "cell_type": "code",
   "execution_count": 7,
   "id": "32f02c81-6d4e-43fe-bc7a-bb048a477d8b",
   "metadata": {},
   "outputs": [],
   "source": [
    "import pyspark \n",
    "\n",
    "# Create SparkSession and sparkcontext\n",
    "from pyspark.sql import SparkSession\n",
    "spark = SparkSession.builder\\\n",
    "                    .master(\"local\")\\\n",
    "                    .appName('wordcount')\\\n",
    "                    .getOrCreate()\n",
    "sc=spark.sparkContext"
   ]
  },
  {
   "cell_type": "code",
   "execution_count": 8,
   "id": "aac52c52-681c-4db4-acde-3ed305f57f5b",
   "metadata": {},
   "outputs": [],
   "source": [
    "# Read the input file and Calculating words count\n",
    "text_file = sc.textFile(\"word_count/file1.txt\")\n",
    "counts = text_file.flatMap(lambda line: line.split(\" \")) \\\n",
    "                            .map(lambda word: (word, 1)) \\\n",
    "                           .reduceByKey(lambda x, y: x + y)"
   ]
  },
  {
   "cell_type": "code",
   "execution_count": 10,
   "id": "1b6787a4-d6df-409a-9d25-4c5149828f04",
   "metadata": {},
   "outputs": [
    {
     "name": "stdout",
     "output_type": "stream",
     "text": [
      "Hi\t1\n",
      "hello\t1\n",
      "ganesh\t2\n",
      "shrumo\t2\n",
      "bagiya\t9\n",
      "cynddia\t4\n",
      "harini\t4\n",
      "suruthi\t4\n",
      "saanji\t3\n",
      "krishna\t2\n",
      "sholini\t4\n"
     ]
    }
   ],
   "source": [
    "output = counts.collect()\n",
    "for (word, count) in output:\n",
    "    print('{}\\t{}'.format(word, count))"
   ]
  },
  {
   "cell_type": "code",
   "execution_count": 11,
   "id": "00c784dd-7e13-439e-9dcd-70a289e5075a",
   "metadata": {},
   "outputs": [],
   "source": [
    "# Stopping Spark-Session and Spark context\n",
    "sc.stop()\n",
    "spark.stop()"
   ]
  },
  {
   "cell_type": "code",
   "execution_count": null,
   "id": "0199a912-24dc-484f-a43b-283e7b242144",
   "metadata": {},
   "outputs": [],
   "source": []
  }
 ],
 "metadata": {
  "kernelspec": {
   "display_name": "Python 3 (ipykernel)",
   "language": "python",
   "name": "python3"
  },
  "language_info": {
   "codemirror_mode": {
    "name": "ipython",
    "version": 3
   },
   "file_extension": ".py",
   "mimetype": "text/x-python",
   "name": "python",
   "nbconvert_exporter": "python",
   "pygments_lexer": "ipython3",
   "version": "3.9.5"
  }
 },
 "nbformat": 4,
 "nbformat_minor": 5
}
