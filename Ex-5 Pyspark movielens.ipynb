{
 "cells": [
  {
   "cell_type": "code",
   "execution_count": 1,
   "id": "6e7c11fe-0eb7-48e2-8530-eb8dcd77254e",
   "metadata": {},
   "outputs": [],
   "source": [
    "from pyspark.sql import SparkSession\n",
    "from pyspark.sql.functions import col, count"
   ]
  },
  {
   "cell_type": "code",
   "execution_count": 2,
   "id": "fed60bd6-141e-43d0-b669-705296f3d565",
   "metadata": {},
   "outputs": [],
   "source": [
    "# Initialize Spark session\n",
    "spark = SparkSession.builder \\\n",
    "    .appName(\"MovieLensRatingsDistribution\") \\\n",
    "    .getOrCreate()"
   ]
  },
  {
   "cell_type": "code",
   "execution_count": 3,
   "id": "d344c27f-4931-4a80-ab61-8967d5b97406",
   "metadata": {},
   "outputs": [],
   "source": [
    "# Load dataset\n",
    "data_path = \"movielens.txt\"  \n",
    "movies_df = spark.read.csv(data_path, sep='\\t', inferSchema=True) \\\n",
    "                      .toDF(\"user_id\", \"movie_id\", \"rating\", \"timestamp\")"
   ]
  },
  {
   "cell_type": "code",
   "execution_count": 4,
   "id": "98f31011-37e7-464a-b100-c7201ec2b8ec",
   "metadata": {},
   "outputs": [],
   "source": [
    "# Calculate the distribution of ratings for each movie\n",
    "rating_distribution = movies_df.groupBy(\"movie_id\", \"rating\") \\\n",
    "                               .agg(count(\"rating\").alias(\"rating_count\")) \\\n",
    "                               .orderBy(\"movie_id\", \"rating\")"
   ]
  },
  {
   "cell_type": "code",
   "execution_count": 5,
   "id": "967ddbc0-977d-47cc-a2cd-bc3aa25cff1d",
   "metadata": {},
   "outputs": [
    {
     "name": "stdout",
     "output_type": "stream",
     "text": [
      "+--------+------+------------+\n",
      "|movie_id|rating|rating_count|\n",
      "+--------+------+------------+\n",
      "|       1|     1|           8|\n",
      "|       1|     2|          27|\n",
      "|       1|     3|          96|\n",
      "|       1|     4|         202|\n",
      "|       1|     5|         119|\n",
      "|       2|     1|           8|\n",
      "|       2|     2|          17|\n",
      "|       2|     3|          55|\n",
      "|       2|     4|          42|\n",
      "|       2|     5|           9|\n",
      "|       3|     1|          11|\n",
      "|       3|     2|          20|\n",
      "|       3|     3|          25|\n",
      "|       3|     4|          23|\n",
      "|       3|     5|          11|\n",
      "|       4|     1|           6|\n",
      "|       4|     2|          24|\n",
      "|       4|     3|          57|\n",
      "|       4|     4|          93|\n",
      "|       4|     5|          29|\n",
      "+--------+------+------------+\n",
      "only showing top 20 rows\n",
      "\n"
     ]
    }
   ],
   "source": [
    "# Show the results\n",
    "rating_distribution.show()"
   ]
  },
  {
   "cell_type": "code",
   "execution_count": null,
   "id": "89f07fb5-da5d-45d2-be2f-7117acb78576",
   "metadata": {},
   "outputs": [],
   "source": []
  }
 ],
 "metadata": {
  "kernelspec": {
   "display_name": "Python 3 (ipykernel)",
   "language": "python",
   "name": "python3"
  },
  "language_info": {
   "codemirror_mode": {
    "name": "ipython",
    "version": 3
   },
   "file_extension": ".py",
   "mimetype": "text/x-python",
   "name": "python",
   "nbconvert_exporter": "python",
   "pygments_lexer": "ipython3",
   "version": "3.9.5"
  }
 },
 "nbformat": 4,
 "nbformat_minor": 5
}
