{
 "cells": [
  {
   "cell_type": "code",
   "execution_count": 1,
   "id": "6bf7c5ba-02c3-4e73-937f-38b7759afc77",
   "metadata": {},
   "outputs": [],
   "source": [
    "import pyspark"
   ]
  },
  {
   "cell_type": "code",
   "execution_count": 2,
   "id": "4883bf80-aafe-4d6b-9f16-262305b950ba",
   "metadata": {},
   "outputs": [],
   "source": [
    "# Create SparkSession and sparkcontext\n",
    "from pyspark.sql import SparkSession\n",
    "spark = SparkSession.builder.master('local').appName('friends_dataset').getOrCreate()\n",
    "sc=spark.sparkContext"
   ]
  },
  {
   "cell_type": "code",
   "execution_count": 8,
   "id": "ab3a64a9-0323-454a-b3c6-e507272de6fd",
   "metadata": {},
   "outputs": [],
   "source": [
    "# Load dataset\n",
    "data_path='friends_test.csv'\n",
    "rdd=sc.textFile(data_path)"
   ]
  },
  {
   "cell_type": "code",
   "execution_count": 10,
   "id": "e9f88a50-84b2-4b67-8e65-a7e492eab41e",
   "metadata": {},
   "outputs": [
    {
     "name": "stdout",
     "output_type": "stream",
     "text": [
      "Age: 26, Average Friends: 242.06\n",
      "Age: 40, Average Friends: 250.82\n",
      "Age: 68, Average Friends: 269.60\n",
      "Age: 54, Average Friends: 278.08\n",
      "Age: 38, Average Friends: 193.53\n",
      "Age: 56, Average Friends: 306.67\n",
      "Age: 36, Average Friends: 246.60\n",
      "Age: 22, Average Friends: 206.43\n",
      "Age: 60, Average Friends: 202.71\n",
      "Age: 30, Average Friends: 235.82\n",
      "Age: 42, Average Friends: 303.50\n",
      "Age: 48, Average Friends: 281.40\n",
      "Age: 50, Average Friends: 254.60\n",
      "Age: 32, Average Friends: 207.91\n",
      "Age: 58, Average Friends: 116.55\n",
      "Age: 64, Average Friends: 281.33\n",
      "Age: 52, Average Friends: 340.64\n",
      "Age: 24, Average Friends: 233.80\n",
      "Age: 20, Average Friends: 165.00\n",
      "Age: 62, Average Friends: 220.77\n",
      "Age: 44, Average Friends: 282.17\n",
      "Age: 28, Average Friends: 209.10\n",
      "Age: 66, Average Friends: 276.44\n",
      "Age: 46, Average Friends: 223.69\n",
      "Age: 18, Average Friends: 343.38\n",
      "Age: 34, Average Friends: 245.50\n",
      "Age: 33, Average Friends: 325.33\n",
      "Age: 55, Average Friends: 295.54\n",
      "Age: 59, Average Friends: 220.00\n",
      "Age: 37, Average Friends: 249.33\n",
      "Age: 27, Average Friends: 228.12\n",
      "Age: 53, Average Friends: 222.86\n",
      "Age: 57, Average Friends: 258.83\n",
      "Age: 43, Average Friends: 230.57\n",
      "Age: 35, Average Friends: 211.62\n",
      "Age: 45, Average Friends: 309.54\n",
      "Age: 67, Average Friends: 214.62\n",
      "Age: 19, Average Friends: 213.27\n",
      "Age: 51, Average Friends: 302.14\n",
      "Age: 25, Average Friends: 197.45\n",
      "Age: 21, Average Friends: 350.88\n",
      "Age: 49, Average Friends: 184.67\n",
      "Age: 39, Average Friends: 169.29\n",
      "Age: 31, Average Friends: 267.25\n",
      "Age: 41, Average Friends: 268.56\n",
      "Age: 69, Average Friends: 235.20\n",
      "Age: 65, Average Friends: 298.20\n",
      "Age: 61, Average Friends: 256.22\n",
      "Age: 29, Average Friends: 215.92\n",
      "Age: 47, Average Friends: 233.22\n",
      "Age: 63, Average Friends: 384.00\n",
      "Age: 23, Average Friends: 246.30\n"
     ]
    }
   ],
   "source": [
    "age_friends_rdd = rdd.map(lambda line: line.split(',')) \\\n",
    "                     .map(lambda cols: (int(cols[2]), (int(cols[3]), 1)))\n",
    "\n",
    "# Sum up num_friends and count for each age\n",
    "age_friends_totals = age_friends_rdd.reduceByKey(lambda a, b: (a[0] + b[0], a[1] + b[1]))\n",
    "\n",
    "# Calculate the average number of friends for each age\n",
    "average_friends_by_age = age_friends_totals.mapValues(lambda total: total[0] / total[1])\n",
    "\n",
    "# Collect and display the results\n",
    "results = average_friends_by_age.collect()\n",
    "for age, avg_friends in results:\n",
    "    print(f\"Age: {age}, Average Friends: {avg_friends:.2f}\")"
   ]
  }
 ],
 "metadata": {
  "kernelspec": {
   "display_name": "Python 3 (ipykernel)",
   "language": "python",
   "name": "python3"
  },
  "language_info": {
   "codemirror_mode": {
    "name": "ipython",
    "version": 3
   },
   "file_extension": ".py",
   "mimetype": "text/x-python",
   "name": "python",
   "nbconvert_exporter": "python",
   "pygments_lexer": "ipython3",
   "version": "3.9.5"
  }
 },
 "nbformat": 4,
 "nbformat_minor": 5
}
