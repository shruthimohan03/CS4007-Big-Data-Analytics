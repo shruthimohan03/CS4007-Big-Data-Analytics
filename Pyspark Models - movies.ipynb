{
 "cells": [
  {
   "cell_type": "code",
   "execution_count": 1,
   "id": "b8f64d9f-8b13-4e07-99bb-5453b30d384d",
   "metadata": {},
   "outputs": [],
   "source": [
    "import pyspark"
   ]
  },
  {
   "cell_type": "code",
   "execution_count": 2,
   "id": "97085e0e-4c2f-4013-8407-0209320d0aad",
   "metadata": {},
   "outputs": [],
   "source": [
    "from pyspark.sql import SparkSession\n",
    "from pyspark.sql.functions import count, col, desc"
   ]
  },
  {
   "cell_type": "code",
   "execution_count": 3,
   "id": "02cf2465-eda8-45c4-8181-c649e2e6388a",
   "metadata": {},
   "outputs": [],
   "source": [
    "spark=SparkSession.builder.master('local').appName('models_q3').getOrCreate()"
   ]
  },
  {
   "cell_type": "code",
   "execution_count": 4,
   "id": "7c99d293-66cd-4007-9b82-5e01f746034c",
   "metadata": {},
   "outputs": [
    {
     "name": "stdout",
     "output_type": "stream",
     "text": [
      "StructType(List(StructField(movie id,IntegerType,true),StructField(user id,IntegerType,true),StructField(rating,IntegerType,true),StructField(timestamp,LongType,true)))\n"
     ]
    }
   ],
   "source": [
    "from pyspark.sql.types import StructType, StructField, IntegerType, LongType\n",
    "\n",
    "schema = StructType([\n",
    "    StructField(\"movie id\", IntegerType(), True),\n",
    "    StructField(\"user id\", IntegerType(), True),\n",
    "    StructField(\"rating\", IntegerType(), True),\n",
    "    StructField(\"timestamp\", LongType(), True)\n",
    "])\n",
    "\n",
    "print(schema)"
   ]
  },
  {
   "cell_type": "code",
   "execution_count": 5,
   "id": "c6867b0c-fedc-4c9b-812e-7d0220474c49",
   "metadata": {},
   "outputs": [],
   "source": [
    "datapath='u.data'\n",
    "dataframe=spark.read.csv(datapath,sep='\\t',schema=schema, header=True)"
   ]
  },
  {
   "cell_type": "code",
   "execution_count": 6,
   "id": "1d1b91d4-8856-4b98-8cc4-aa89c3f36d4a",
   "metadata": {},
   "outputs": [
    {
     "name": "stdout",
     "output_type": "stream",
     "text": [
      "+--------+-------+------+---------+\n",
      "|movie id|user id|rating|timestamp|\n",
      "+--------+-------+------+---------+\n",
      "|     186|    302|     3|891717742|\n",
      "|      22|    377|     1|878887116|\n",
      "|     244|     51|     2|880606923|\n",
      "|     166|    346|     1|886397596|\n",
      "|     298|    474|     4|884182806|\n",
      "|     115|    265|     2|881171488|\n",
      "|     253|    465|     5|891628467|\n",
      "|     305|    451|     3|886324817|\n",
      "|       6|     86|     3|883603013|\n",
      "|      62|    257|     2|879372434|\n",
      "|     286|   1014|     5|879781125|\n",
      "|     200|    222|     5|876042340|\n",
      "|     210|     40|     3|891035994|\n",
      "|     224|     29|     3|888104457|\n",
      "|     303|    785|     3|879485318|\n",
      "|     122|    387|     5|879270459|\n",
      "|     194|    274|     2|879539794|\n",
      "|     291|   1042|     4|874834944|\n",
      "|     234|   1184|     2|892079237|\n",
      "|     119|    392|     4|886176814|\n",
      "+--------+-------+------+---------+\n",
      "only showing top 20 rows\n",
      "\n"
     ]
    },
    {
     "name": "stderr",
     "output_type": "stream",
     "text": [
      "24/11/05 08:58:27 WARN CSVHeaderChecker: CSV header does not conform to the schema.\n",
      " Header: 196, 242, 3, 881250949\n",
      " Schema: movie id, user id, rating, timestamp\n",
      "Expected: movie id but found: 196\n",
      "CSV file: file:///home/hadoop/u.data\n"
     ]
    }
   ],
   "source": [
    "dataframe.show()"
   ]
  },
  {
   "cell_type": "code",
   "execution_count": 10,
   "id": "0d242440-dd2c-43b9-95bc-19a73a4f9ec0",
   "metadata": {},
   "outputs": [
    {
     "name": "stderr",
     "output_type": "stream",
     "text": [
      "24/11/05 08:59:44 WARN CSVHeaderChecker: CSV header does not conform to the schema.\n",
      " Header: 196, 3\n",
      " Schema: movie id, rating\n",
      "Expected: movie id but found: 196\n",
      "CSV file: file:///home/hadoop/u.data\n"
     ]
    },
    {
     "name": "stdout",
     "output_type": "stream",
     "text": [
      "+--------+------+------------------------------+\n",
      "|movie id|rating|count of ratings for the movie|\n",
      "+--------+------+------------------------------+\n",
      "|     416|     5|                           172|\n",
      "|       7|     5|                           161|\n",
      "|      90|     5|                           147|\n",
      "|     592|     5|                           145|\n",
      "|     747|     5|                           142|\n",
      "|     312|     5|                           139|\n",
      "|     551|     5|                           137|\n",
      "|      13|     5|                           136|\n",
      "|      59|     5|                           134|\n",
      "|     450|     5|                           126|\n",
      "+--------+------+------------------------------+\n",
      "only showing top 10 rows\n",
      "\n"
     ]
    }
   ],
   "source": [
    "top_most_5_rated=dataframe.groupBy('movie id','rating').agg(count('movie id').alias('count of ratings for the movie')).where(dataframe['rating']==5).orderBy('count of ratings for the movie',ascending=False)\n",
    "top_most_5_rated.show(10)"
   ]
  },
  {
   "cell_type": "code",
   "execution_count": 14,
   "id": "d00bd4a5-b683-4e22-90c7-7373bfacfbc6",
   "metadata": {},
   "outputs": [
    {
     "name": "stdout",
     "output_type": "stream",
     "text": [
      "+-------+-----------------------------------+\n",
      "|user id|count of number of times user rated|\n",
      "+-------+-----------------------------------+\n",
      "|     50|                                583|\n",
      "|    258|                                509|\n",
      "|    100|                                508|\n",
      "|    181|                                507|\n",
      "|    294|                                485|\n",
      "|    286|                                481|\n",
      "|    288|                                478|\n",
      "|      1|                                452|\n",
      "|    300|                                431|\n",
      "|    121|                                429|\n",
      "+-------+-----------------------------------+\n",
      "only showing top 10 rows\n",
      "\n"
     ]
    },
    {
     "name": "stderr",
     "output_type": "stream",
     "text": [
      "24/11/05 09:00:36 WARN CSVHeaderChecker: CSV header does not conform to the schema.\n",
      " Header: 242\n",
      " Schema: user id\n",
      "Expected: user id but found: 242\n",
      "CSV file: file:///home/hadoop/u.data\n"
     ]
    }
   ],
   "source": [
    "top_most_users=dataframe.groupBy('user id').agg(count('user id').alias('count of number of times user rated')).orderBy('count of number of times user rated',ascending=False)\n",
    "top_most_users.show(10)"
   ]
  }
 ],
 "metadata": {
  "kernelspec": {
   "display_name": "Python 3 (ipykernel)",
   "language": "python",
   "name": "python3"
  },
  "language_info": {
   "codemirror_mode": {
    "name": "ipython",
    "version": 3
   },
   "file_extension": ".py",
   "mimetype": "text/x-python",
   "name": "python",
   "nbconvert_exporter": "python",
   "pygments_lexer": "ipython3",
   "version": "3.9.5"
  }
 },
 "nbformat": 4,
 "nbformat_minor": 5
}
